{
 "cells": [
  {
   "cell_type": "code",
   "execution_count": 89,
   "id": "37b92ef8-dedb-489b-a48a-d408f0df40a7",
   "metadata": {},
   "outputs": [],
   "source": [
    "import librosa\n",
    "import matplotlib.pyplot as plt\n",
    "import numpy as np\n",
    "import pandas as pd\n",
    "import glob\n",
    "from sklearn.ensemble import RandomForestClassifier\n",
    "from sklearn.metrics import accuracy_score, precision_score, recall_score, confusion_matrix\n",
    "from sklearn import metrics\n",
    "from sklearn.model_selection import LeaveOneOut, train_test_split, KFold\n",
    "from sklearn.svm import SVC\n",
    "from sklearn.linear_model import LogisticRegression\n",
    "from sklearn.ensemble import GradientBoostingClassifier\n",
    "import seaborn as sns"
   ]
  },
  {
   "cell_type": "code",
   "execution_count": 90,
   "id": "4c9c28dc-393b-4891-be7b-9e57aa732a2d",
   "metadata": {},
   "outputs": [],
   "source": [
    "def format_df(df):\n",
    "    new_df = {}\n",
    "    for col in df:\n",
    "        new_df[col] = []\n",
    "        new_df[col].append(np.mean(df[col]))\n",
    "\n",
    "    return pd.DataFrame(new_df)"
   ]
  },
  {
   "cell_type": "code",
   "execution_count": 91,
   "id": "aa8b79c1-8cc3-40ea-99b1-638f228d7168",
   "metadata": {},
   "outputs": [],
   "source": [
    "def plot_confusion_matrix(y_true, y_pred, model_name, class_labels):\n",
    "    # Calculate confusion matrix\n",
    "    cm = confusion_matrix(y_true, y_pred)\n",
    "    \n",
    "    # Plot confusion matrix\n",
    "    plt.figure()\n",
    "    sns.heatmap(cm, annot=True, fmt='d', cmap='Blues', xticklabels=class_labels, yticklabels=class_labels)\n",
    "    plt.xlabel('Predicted Label')\n",
    "    plt.ylabel('True Label')\n",
    "    plt.title(f'Confusion Matrix for {model_name}')\n",
    "    plt.show()"
   ]
  },
  {
   "cell_type": "code",
   "execution_count": 92,
   "id": "818fdf9c-c0a6-4084-9dfe-80e01a187d7b",
   "metadata": {},
   "outputs": [],
   "source": [
    "# def run_models(df):\n",
    "\n",
    "#     # Prep features and target\n",
    "#     features = df.drop(columns=[\"Class\"])\n",
    "#     feature_names = features.columns\n",
    "#     target = df.Class\n",
    "#     class_labels = np.unique(target)\n",
    "#     cv = LeaveOneOut()\n",
    "\n",
    "#     # SVM\n",
    "#     svm = SVC(kernel=\"linear\")\n",
    "#     actual_class = []\n",
    "#     predicted_class = []\n",
    "    \n",
    "#     for train_index, test_index in cv.split(features):\n",
    "\n",
    "#         # Splitting into training and testing\n",
    "#         X_train, X_test = features.take(train_index), features.take(test_index)\n",
    "#         y_train, y_test = target.take(train_index), target.take(test_index)\n",
    "\n",
    "#         svm = svm.fit(X_train, y_train)\n",
    "#         y_pred = svm.predict(X_test)\n",
    "\n",
    "#         actual_class.append(y_test.item())\n",
    "#         predicted_class.append(y_pred[0])\n",
    "\n",
    "#     print(f\"SVM Accuracy: {accuracy_score(actual_class, predicted_class)*100:.2f}%\")\n",
    "#     plot_confusion_matrix(actual_class, predicted_class, \"SVM\", class_labels)\n",
    "\n",
    "#     # Random Forest\n",
    "#     rf = RandomForestClassifier()\n",
    "#     actual_class = []\n",
    "#     predicted_class = []\n",
    "    \n",
    "#     for train_index, test_index in cv.split(features):\n",
    "        \n",
    "#         # Splitting into training and testing\n",
    "#         X_train, X_test = features.take(train_index), features.take(test_index)\n",
    "#         y_train, y_test = target.take(train_index), target.take(test_index)\n",
    "\n",
    "#         rf.fit(X_train, y_train)\n",
    "#         y_pred = rf.predict(X_test)\n",
    "\n",
    "#         actual_class.append(y_test.item())\n",
    "#         predicted_class.append(y_pred[0])\n",
    "\n",
    "#     print(f\"RF Accuracy: {accuracy_score(actual_class, predicted_class)*100:.2f}%\")\n",
    "#     plot_confusion_matrix(actual_class, predicted_class, \"RF\", class_labels)"
   ]
  },
  {
   "cell_type": "code",
   "execution_count": 93,
   "id": "25e2cbab-9301-4b33-9785-fbc4efb8d72c",
   "metadata": {},
   "outputs": [],
   "source": [
    "def run_models(df):\n",
    "\n",
    "    # Prep features and target\n",
    "    features = df.drop(columns=[\"Class\"])\n",
    "    feature_names = features.columns\n",
    "    target = df.Class\n",
    "    class_labels = np.unique(target)\n",
    "    # cv = LeaveOneOut()\n",
    "\n",
    "    # SVM\n",
    "    svm = SVC(kernel=\"linear\")\n",
    "    X_train, X_test, y_train, y_test = train_test_split(features, target, test_size=0.33, random_state=42)\n",
    "    svm = svm.fit(X_train, y_train)\n",
    "    y_pred = svm.predict(X_test)\n",
    "    print(f\"SVM Accuracy: {accuracy_score(y_test, y_pred)*100:.2f}%\")\n",
    "\n",
    "    # Random Forest\n",
    "    rf = RandomForestClassifier()\n",
    "    X_train, X_test, y_train, y_test = train_test_split(features, target, test_size=0.33, random_state=42)\n",
    "    rf = rf.fit(X_train, y_train)\n",
    "    y_pred = rf.predict(X_test)\n",
    "    print(f\"RF Accuracy: {accuracy_score(y_test, y_pred)*100:.2f}%\")\n"
   ]
  },
  {
   "cell_type": "code",
   "execution_count": 94,
   "id": "aacad6c8-0438-49f6-98ab-c15344859973",
   "metadata": {},
   "outputs": [
    {
     "name": "stdout",
     "output_type": "stream",
     "text": [
      "SVM Accuracy: 98.80%\n",
      "RF Accuracy: 97.59%\n"
     ]
    }
   ],
   "source": [
    "stft_files = glob.glob(\"../Soheyl_Codes/STFT-V2/Synthetic-SFTF-New/*/*\")\n",
    "df_list = []\n",
    "for file in stft_files:\n",
    "    df = pd.read_csv(file, header=None)\n",
    "    class_label = file.split('/')[-2]\n",
    "    if class_label == \"hail_heavy\":\n",
    "        frequencies = df.iloc[0].to_numpy()\n",
    "        break\n",
    "        \n",
    "for file in stft_files:\n",
    "    df = pd.read_csv(file, header=None)\n",
    "    class_label = file.split('/')[-2]\n",
    "    if class_label == \"hail_heavy\":\n",
    "        df.drop(index=df.index[0], axis=0, inplace=True)\n",
    "    df.columns = frequencies\n",
    "    new_df = format_df(df)\n",
    "    new_df[\"Class\"] = class_label\n",
    "    df_list.append(new_df)\n",
    "\n",
    "all_classes_df = pd.concat(df_list, ignore_index=True).dropna()\n",
    "run_models(all_classes_df)"
   ]
  }
 ],
 "metadata": {
  "kernelspec": {
   "display_name": "Python 3 (ipykernel)",
   "language": "python",
   "name": "python3"
  },
  "language_info": {
   "codemirror_mode": {
    "name": "ipython",
    "version": 3
   },
   "file_extension": ".py",
   "mimetype": "text/x-python",
   "name": "python",
   "nbconvert_exporter": "python",
   "pygments_lexer": "ipython3",
   "version": "3.11.5"
  }
 },
 "nbformat": 4,
 "nbformat_minor": 5
}
